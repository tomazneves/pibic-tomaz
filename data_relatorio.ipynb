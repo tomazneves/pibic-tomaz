{
 "cells": [
  {
   "cell_type": "code",
   "execution_count": null,
   "id": "700d2337",
   "metadata": {},
   "outputs": [
    {
     "name": "stdout",
     "output_type": "stream",
     "text": [
      "297957.0\n",
      "19661.0 6.598603154146404\n",
      "5225.0 1.7536087422010558\n",
      "3497\n"
     ]
    }
   ],
   "source": [
    "import json\n",
    "from difflib import SequenceMatcher\n",
    "\n",
    "data = None\n",
    "with open(\"data_complete.json\", \"r\") as fs:\n",
    "\tdata = json.loads(fs.read())\n",
    "\n",
    "qtd = 0.0\n",
    "doi = 0.0\n",
    "abstract = 0.0\n",
    "areas = set()\n",
    "\n",
    "for row in data:\n",
    "\tif row[\"doi\"] != \"\":\n",
    "\t\tdoi += 1.0\n",
    "\tif row[\"abstract\"] != \"\":\n",
    "\t\tabstract += 1.0\n",
    "\tqtd += 1.0\n",
    "\tfor area in row[\"areas\"]:\n",
    "\t\tareas.add(area)\n",
    "\n",
    "print(qtd)\n",
    "print(doi, 100*doi/qtd)\n",
    "print(abstract, 100*abstract/qtd)\n",
    "print(len(areas))"
   ]
  }
 ],
 "metadata": {
  "kernelspec": {
   "display_name": "umap",
   "language": "python",
   "name": "python3"
  },
  "language_info": {
   "codemirror_mode": {
    "name": "ipython",
    "version": 3
   },
   "file_extension": ".py",
   "mimetype": "text/x-python",
   "name": "python",
   "nbconvert_exporter": "python",
   "pygments_lexer": "ipython3",
   "version": "3.11.13"
  }
 },
 "nbformat": 4,
 "nbformat_minor": 5
}
